{
 "cells": [
  {
   "cell_type": "code",
   "execution_count": 19,
   "metadata": {},
   "outputs": [],
   "source": [
    "import numpy as np\n",
    "import pandas as pd\n",
    "import os"
   ]
  },
  {
   "cell_type": "code",
   "execution_count": 22,
   "metadata": {},
   "outputs": [],
   "source": [
    "#ZIP LIST SECTION - ZIP ALLOWS YOU TO iterate MULTIPLE LISTS\n",
    "\n",
    "lst = np.linspace(0,100, 10)\n",
    "# print(lst,len(lst))\n",
    "new_list = np.arange(-5,8, 1)\n",
    "# print(new_list, len(new_list))\n",
    "\n",
    "\n",
    "sum_list = []\n",
    "for i in range(len(lst)):\n",
    "    sum_list.append(((lst[i] * 2) ** 3) - new_list[i])\n",
    "\n",
    "#print(sum_list)\n",
    "\n",
    "fast_list = []\n",
    "for i,j in zip(lst,new_list):\n",
    "    fast_list.append(((i*2)**3) - j)\n",
    "\n",
    "# print(fast_list)\n",
    "\n"
   ]
  },
  {
   "cell_type": "code",
   "execution_count": 25,
   "metadata": {
    "tags": []
   },
   "outputs": [
    {
     "output_type": "stream",
     "name": "stdout",
     "text": "[1, 2, 3, 4, 5, 6, 7] ['dog', 'you']\n"
    }
   ],
   "source": [
    "#list comprehension\n",
    "my_list = [\"dog\", \"cat\", 5, \"you\"]\n",
    "\n",
    "new_list = [i for i in new_list if i > 0]\n",
    "#my_list = [i for i in my_list if type(i) == str]\n",
    "my_list = [i for i in my_list if type(i) == str and \"o\" in i]\n",
    "\n",
    "print(new_list,my_list)\n"
   ]
  },
  {
   "cell_type": "code",
   "execution_count": 28,
   "metadata": {},
   "outputs": [
    {
     "output_type": "display_data",
     "data": {
      "text/plain": "        Number      Word                                 Sentence Character\n0     2.000000     apple                Hello, how are you doing?         b\n1    46.654000      bats                    I love flying planes.         y\n2     7.011236      yoga       My sister loves to eat fried eggs.         z\n3    81.000000  computer       I find writing essays interesting.         x\n4     0.000000     water  What is your favorite computer company?         o\n5 -5712.000000   vampire     Who is the funniest person you know?         e",
      "text/html": "<div>\n<style scoped>\n    .dataframe tbody tr th:only-of-type {\n        vertical-align: middle;\n    }\n\n    .dataframe tbody tr th {\n        vertical-align: top;\n    }\n\n    .dataframe thead th {\n        text-align: right;\n    }\n</style>\n<table border=\"1\" class=\"dataframe\">\n  <thead>\n    <tr style=\"text-align: right;\">\n      <th></th>\n      <th>Number</th>\n      <th>Word</th>\n      <th>Sentence</th>\n      <th>Character</th>\n    </tr>\n  </thead>\n  <tbody>\n    <tr>\n      <th>0</th>\n      <td>2.000000</td>\n      <td>apple</td>\n      <td>Hello, how are you doing?</td>\n      <td>b</td>\n    </tr>\n    <tr>\n      <th>1</th>\n      <td>46.654000</td>\n      <td>bats</td>\n      <td>I love flying planes.</td>\n      <td>y</td>\n    </tr>\n    <tr>\n      <th>2</th>\n      <td>7.011236</td>\n      <td>yoga</td>\n      <td>My sister loves to eat fried eggs.</td>\n      <td>z</td>\n    </tr>\n    <tr>\n      <th>3</th>\n      <td>81.000000</td>\n      <td>computer</td>\n      <td>I find writing essays interesting.</td>\n      <td>x</td>\n    </tr>\n    <tr>\n      <th>4</th>\n      <td>0.000000</td>\n      <td>water</td>\n      <td>What is your favorite computer company?</td>\n      <td>o</td>\n    </tr>\n    <tr>\n      <th>5</th>\n      <td>-5712.000000</td>\n      <td>vampire</td>\n      <td>Who is the funniest person you know?</td>\n      <td>e</td>\n    </tr>\n  </tbody>\n</table>\n</div>"
     },
     "metadata": {}
    }
   ],
   "source": [
    "ar = [[2, \"apple\",\"Hello, how are you doing?\", \"b\"],\n",
    "    [46.654, \"bats\", \"I love flying planes.\", \"y\"],\n",
    "    [624/89, \"yoga\", \"My sister loves to eat fried eggs.\", \"z\"],\n",
    "    [81, \"computer\", \"I find writing essays interesting.\", \"x\"],\n",
    "    [0, \"water\", \"What is your favorite computer company?\", \"o\"],\n",
    "    [-5712, \"vampire\", \"Who is the funniest person you know?\", \"e\"]]\n",
    "data = pd.DataFrame(ar)\n",
    "data.columns = [\"Number\", \"Word\", \"Sentence\", \"Character\"]\n",
    "\n",
    "display(data)"
   ]
  },
  {
   "cell_type": "code",
   "execution_count": 31,
   "metadata": {},
   "outputs": [
    {
     "output_type": "display_data",
     "data": {
      "text/plain": "      Number      Word                            Sentence Character\n0   2.000000     apple           Hello, how are you doing?         b\n1  46.654000      bats               I love flying planes.         y\n2   7.011236      yoga  My sister loves to eat fried eggs.         z\n3  81.000000  computer  I find writing essays interesting.         x",
      "text/html": "<div>\n<style scoped>\n    .dataframe tbody tr th:only-of-type {\n        vertical-align: middle;\n    }\n\n    .dataframe tbody tr th {\n        vertical-align: top;\n    }\n\n    .dataframe thead th {\n        text-align: right;\n    }\n</style>\n<table border=\"1\" class=\"dataframe\">\n  <thead>\n    <tr style=\"text-align: right;\">\n      <th></th>\n      <th>Number</th>\n      <th>Word</th>\n      <th>Sentence</th>\n      <th>Character</th>\n    </tr>\n  </thead>\n  <tbody>\n    <tr>\n      <th>0</th>\n      <td>2.000000</td>\n      <td>apple</td>\n      <td>Hello, how are you doing?</td>\n      <td>b</td>\n    </tr>\n    <tr>\n      <th>1</th>\n      <td>46.654000</td>\n      <td>bats</td>\n      <td>I love flying planes.</td>\n      <td>y</td>\n    </tr>\n    <tr>\n      <th>2</th>\n      <td>7.011236</td>\n      <td>yoga</td>\n      <td>My sister loves to eat fried eggs.</td>\n      <td>z</td>\n    </tr>\n    <tr>\n      <th>3</th>\n      <td>81.000000</td>\n      <td>computer</td>\n      <td>I find writing essays interesting.</td>\n      <td>x</td>\n    </tr>\n  </tbody>\n</table>\n</div>"
     },
     "metadata": {}
    }
   ],
   "source": [
    "display(data.loc[data[\"Number\"] > 0])"
   ]
  },
  {
   "cell_type": "code",
   "execution_count": 34,
   "metadata": {
    "tags": []
   },
   "outputs": [
    {
     "output_type": "display_data",
     "data": {
      "text/plain": "        Number     Word                                 Sentence Character\n0     2.000000    apple                Hello, how are you doing?         b\n1    46.654000     bats                    I love flying planes.         y\n2     7.011236     yoga       My sister loves to eat fried eggs.         z\n4     0.000000    water  What is your favorite computer company?         o\n5 -5712.000000  vampire     Who is the funniest person you know?         e",
      "text/html": "<div>\n<style scoped>\n    .dataframe tbody tr th:only-of-type {\n        vertical-align: middle;\n    }\n\n    .dataframe tbody tr th {\n        vertical-align: top;\n    }\n\n    .dataframe thead th {\n        text-align: right;\n    }\n</style>\n<table border=\"1\" class=\"dataframe\">\n  <thead>\n    <tr style=\"text-align: right;\">\n      <th></th>\n      <th>Number</th>\n      <th>Word</th>\n      <th>Sentence</th>\n      <th>Character</th>\n    </tr>\n  </thead>\n  <tbody>\n    <tr>\n      <th>0</th>\n      <td>2.000000</td>\n      <td>apple</td>\n      <td>Hello, how are you doing?</td>\n      <td>b</td>\n    </tr>\n    <tr>\n      <th>1</th>\n      <td>46.654000</td>\n      <td>bats</td>\n      <td>I love flying planes.</td>\n      <td>y</td>\n    </tr>\n    <tr>\n      <th>2</th>\n      <td>7.011236</td>\n      <td>yoga</td>\n      <td>My sister loves to eat fried eggs.</td>\n      <td>z</td>\n    </tr>\n    <tr>\n      <th>4</th>\n      <td>0.000000</td>\n      <td>water</td>\n      <td>What is your favorite computer company?</td>\n      <td>o</td>\n    </tr>\n    <tr>\n      <th>5</th>\n      <td>-5712.000000</td>\n      <td>vampire</td>\n      <td>Who is the funniest person you know?</td>\n      <td>e</td>\n    </tr>\n  </tbody>\n</table>\n</div>"
     },
     "metadata": {}
    }
   ],
   "source": [
    "display(data.loc[data[\"Word\"].str.contains(\"a\")])"
   ]
  },
  {
   "cell_type": "code",
   "execution_count": 37,
   "metadata": {},
   "outputs": [
    {
     "output_type": "display_data",
     "data": {
      "text/plain": "   Number   Word                   Sentence Character\n0     2.0  apple  Hello, how are you doing?         b",
      "text/html": "<div>\n<style scoped>\n    .dataframe tbody tr th:only-of-type {\n        vertical-align: middle;\n    }\n\n    .dataframe tbody tr th {\n        vertical-align: top;\n    }\n\n    .dataframe thead th {\n        text-align: right;\n    }\n</style>\n<table border=\"1\" class=\"dataframe\">\n  <thead>\n    <tr style=\"text-align: right;\">\n      <th></th>\n      <th>Number</th>\n      <th>Word</th>\n      <th>Sentence</th>\n      <th>Character</th>\n    </tr>\n  </thead>\n  <tbody>\n    <tr>\n      <th>0</th>\n      <td>2.0</td>\n      <td>apple</td>\n      <td>Hello, how are you doing?</td>\n      <td>b</td>\n    </tr>\n  </tbody>\n</table>\n</div>"
     },
     "metadata": {}
    }
   ],
   "source": [
    "display(data.loc[(data[\"Number\"] > 0) & (data[\"Sentence\"].str.contains(\"\\?\"))])"
   ]
  },
  {
   "cell_type": "code",
   "execution_count": 40,
   "metadata": {
    "tags": []
   },
   "outputs": [
    {
     "output_type": "execute_result",
     "data": {
      "text/plain": "        Number      Word                                 Sentence Character  \\\n0     2.000000     apple                Hello, how are you doing?         b   \n1    46.654000      bats                    I love flying planes.         y   \n2     7.011236      yoga       My sister loves to eat fried eggs.         z   \n3    81.000000  computer       I find writing essays interesting.         x   \n4     0.000000     water  What is your favorite computer company?         o   \n5 -5712.000000   vampire     Who is the funniest person you know?         e   \n\n  First_Word     Last_Word Punctuation           new  \n0     Hello,        doing?           ?        doing?  \n1          I       planes.           .       planes.  \n2         My         eggs.           .         eggs.  \n3          I  interesting.           .  interesting.  \n4       What      company?           ?      company?  \n5        Who         know?           ?         know?  ",
      "text/html": "<div>\n<style scoped>\n    .dataframe tbody tr th:only-of-type {\n        vertical-align: middle;\n    }\n\n    .dataframe tbody tr th {\n        vertical-align: top;\n    }\n\n    .dataframe thead th {\n        text-align: right;\n    }\n</style>\n<table border=\"1\" class=\"dataframe\">\n  <thead>\n    <tr style=\"text-align: right;\">\n      <th></th>\n      <th>Number</th>\n      <th>Word</th>\n      <th>Sentence</th>\n      <th>Character</th>\n      <th>First_Word</th>\n      <th>Last_Word</th>\n      <th>Punctuation</th>\n      <th>new</th>\n    </tr>\n  </thead>\n  <tbody>\n    <tr>\n      <th>0</th>\n      <td>2.000000</td>\n      <td>apple</td>\n      <td>Hello, how are you doing?</td>\n      <td>b</td>\n      <td>Hello,</td>\n      <td>doing?</td>\n      <td>?</td>\n      <td>doing?</td>\n    </tr>\n    <tr>\n      <th>1</th>\n      <td>46.654000</td>\n      <td>bats</td>\n      <td>I love flying planes.</td>\n      <td>y</td>\n      <td>I</td>\n      <td>planes.</td>\n      <td>.</td>\n      <td>planes.</td>\n    </tr>\n    <tr>\n      <th>2</th>\n      <td>7.011236</td>\n      <td>yoga</td>\n      <td>My sister loves to eat fried eggs.</td>\n      <td>z</td>\n      <td>My</td>\n      <td>eggs.</td>\n      <td>.</td>\n      <td>eggs.</td>\n    </tr>\n    <tr>\n      <th>3</th>\n      <td>81.000000</td>\n      <td>computer</td>\n      <td>I find writing essays interesting.</td>\n      <td>x</td>\n      <td>I</td>\n      <td>interesting.</td>\n      <td>.</td>\n      <td>interesting.</td>\n    </tr>\n    <tr>\n      <th>4</th>\n      <td>0.000000</td>\n      <td>water</td>\n      <td>What is your favorite computer company?</td>\n      <td>o</td>\n      <td>What</td>\n      <td>company?</td>\n      <td>?</td>\n      <td>company?</td>\n    </tr>\n    <tr>\n      <th>5</th>\n      <td>-5712.000000</td>\n      <td>vampire</td>\n      <td>Who is the funniest person you know?</td>\n      <td>e</td>\n      <td>Who</td>\n      <td>know?</td>\n      <td>?</td>\n      <td>know?</td>\n    </tr>\n  </tbody>\n</table>\n</div>"
     },
     "metadata": {},
     "execution_count": 40
    }
   ],
   "source": [
    "data[\"First_Word\"] = data[\"Sentence\"].str.split(\" \").str[0]\n",
    "data[\"Last_Word\"] = data[\"Sentence\"].str.split(\" \").str[-1]\n",
    "# data[\"Punctuation\"] = data[\"Last_Word\"].str.split(\"(?!^)\").str[-2]\n",
    "# data[\"Punctuation\"] = data[\"Sentence\"].str.split(\"\").str[-2]\n",
    "data[\"Punctuation\"] = data[\"Sentence\"].str.split(\" \").str[-1].str[-1]\n",
    "data[\"new\"] = data[\"Sentence\"].str.split(\" \").str[-1]\n",
    "data"
   ]
  },
  {
   "cell_type": "code",
   "execution_count": 41,
   "metadata": {
    "tags": []
   },
   "outputs": [
    {
     "output_type": "stream",
     "name": "stdout",
     "text": "551 µs ± 33.4 µs per loop (mean ± std. dev. of 7 runs, 1000 loops each)\n"
    }
   ],
   "source": [
    "%%timeit\n",
    "data[\"First_Word\"] = data[\"Sentence\"].str.split(\" \").str[0]\n",
    "data"
   ]
  },
  {
   "cell_type": "code",
   "execution_count": 42,
   "metadata": {
    "tags": []
   },
   "outputs": [
    {
     "output_type": "stream",
     "name": "stdout",
     "text": "2.13 ms ± 269 µs per loop (mean ± std. dev. of 7 runs, 100 loops each)\n"
    }
   ],
   "source": [
    "%%timeit\n",
    "for i in range(len(data)):\n",
    "    data.loc[i, \"First Word\"] = data.loc[i, \"Sentence\"].split(\" \")[0]\n",
    "data"
   ]
  },
  {
   "cell_type": "code",
   "execution_count": 43,
   "metadata": {},
   "outputs": [
    {
     "output_type": "execute_result",
     "data": {
      "text/plain": "      Number      Word                            Sentence Character  \\\n0   2.000000     apple           Hello, how are you doing?         b   \n1  46.654000      bats               I love flying planes.         y   \n2   7.011236      yoga  My sister loves to eat fried eggs.         z   \n3  81.000000  computer  I find writing essays interesting.         x   \n\n  First_Word     Last_Word Punctuation           new First Word  \n0     Hello,        doing?           ?        doing?     Hello,  \n1          I       planes.           .       planes.          I  \n2         My         eggs.           .         eggs.         My  \n3          I  interesting.           .  interesting.          I  ",
      "text/html": "<div>\n<style scoped>\n    .dataframe tbody tr th:only-of-type {\n        vertical-align: middle;\n    }\n\n    .dataframe tbody tr th {\n        vertical-align: top;\n    }\n\n    .dataframe thead th {\n        text-align: right;\n    }\n</style>\n<table border=\"1\" class=\"dataframe\">\n  <thead>\n    <tr style=\"text-align: right;\">\n      <th></th>\n      <th>Number</th>\n      <th>Word</th>\n      <th>Sentence</th>\n      <th>Character</th>\n      <th>First_Word</th>\n      <th>Last_Word</th>\n      <th>Punctuation</th>\n      <th>new</th>\n      <th>First Word</th>\n    </tr>\n  </thead>\n  <tbody>\n    <tr>\n      <th>0</th>\n      <td>2.000000</td>\n      <td>apple</td>\n      <td>Hello, how are you doing?</td>\n      <td>b</td>\n      <td>Hello,</td>\n      <td>doing?</td>\n      <td>?</td>\n      <td>doing?</td>\n      <td>Hello,</td>\n    </tr>\n    <tr>\n      <th>1</th>\n      <td>46.654000</td>\n      <td>bats</td>\n      <td>I love flying planes.</td>\n      <td>y</td>\n      <td>I</td>\n      <td>planes.</td>\n      <td>.</td>\n      <td>planes.</td>\n      <td>I</td>\n    </tr>\n    <tr>\n      <th>2</th>\n      <td>7.011236</td>\n      <td>yoga</td>\n      <td>My sister loves to eat fried eggs.</td>\n      <td>z</td>\n      <td>My</td>\n      <td>eggs.</td>\n      <td>.</td>\n      <td>eggs.</td>\n      <td>My</td>\n    </tr>\n    <tr>\n      <th>3</th>\n      <td>81.000000</td>\n      <td>computer</td>\n      <td>I find writing essays interesting.</td>\n      <td>x</td>\n      <td>I</td>\n      <td>interesting.</td>\n      <td>.</td>\n      <td>interesting.</td>\n      <td>I</td>\n    </tr>\n  </tbody>\n</table>\n</div>"
     },
     "metadata": {},
     "execution_count": 43
    }
   ],
   "source": [
    "data.loc[0:3,:]"
   ]
  },
  {
   "cell_type": "code",
   "execution_count": 44,
   "metadata": {},
   "outputs": [
    {
     "output_type": "execute_result",
     "data": {
      "text/plain": "4"
     },
     "metadata": {},
     "execution_count": 44
    }
   ],
   "source": [
    "exec(\"x=4\")\n",
    "x"
   ]
  },
  {
   "cell_type": "code",
   "execution_count": 45,
   "metadata": {},
   "outputs": [
    {
     "output_type": "execute_result",
     "data": {
      "text/plain": "5"
     },
     "metadata": {},
     "execution_count": 45
    }
   ],
   "source": [
    "eval(\"x+1\")"
   ]
  },
  {
   "cell_type": "code",
   "execution_count": 50,
   "metadata": {
    "tags": []
   },
   "outputs": [
    {
     "output_type": "stream",
     "name": "stdout",
     "text": "c:\\Users\\Super\\Desktop\\Python-master\\Python_Important\n"
    }
   ],
   "source": [
    "path = os.getcwd()\n",
    "print(path)\n",
    "# THE BETTER ONE\n",
    "with open(os.sep.join([path, \"example.txt\"]) ,\"r\") as file:\n",
    "    for line in file:\n",
    "        exec(line)\n",
    "\n",
    "# file = open(os.sep.join([path, \"example.txt\"]), \"r\")\n",
    "# file = file.readlines()\n",
    "# for line in file:\n",
    "#     exec(line)\n",
    "file.close()"
   ]
  },
  {
   "cell_type": "code",
   "execution_count": 47,
   "metadata": {
    "tags": []
   },
   "outputs": [
    {
     "output_type": "stream",
     "name": "stdout",
     "text": "['Zenchang', 'Alex']\nZenchang\nblack\nsushi\nMadison\nRiley\nHarper\nElise\n99\n86\n92\nAlex\nred\npasta\nVenetia\nJennifer\nJill\nJonathan\n42\n13\n5\n"
    }
   ],
   "source": [
    "print(people)\n",
    "#print(eval(people[0] + \"_info\"))\n",
    "for i in people:\n",
    "    print(i)\n",
    "    person_info = eval(f\"{i}_info\")\n",
    "    for j in person_info:\n",
    "        # Checking type of value\n",
    "        if type(person_info[j]) == list:\n",
    "            for k in person_info[j]:\n",
    "                print(k)\n",
    "            \n",
    "        elif type(person_info[j]) == str:\n",
    "            print(person_info[j])\n",
    "        \n",
    "        elif type(person_info[j]) == dict:\n",
    "            for k in person_info[j]:\n",
    "                print(person_info[j][k])\n",
    "\n"
   ]
  },
  {
   "cell_type": "code",
   "execution_count": 48,
   "metadata": {
    "tags": []
   },
   "outputs": [
    {
     "output_type": "stream",
     "name": "stdout",
     "text": "[[0. 0. 0. 0.]\n [0. 0. 0. 0.]]\n"
    }
   ],
   "source": [
    "zero = np.zeros((2,4))\n",
    "print(zero)"
   ]
  },
  {
   "cell_type": "code",
   "execution_count": null,
   "metadata": {},
   "outputs": [],
   "source": []
  }
 ],
 "metadata": {
  "kernelspec": {
   "display_name": "Python 3.8.2 32-bit",
   "language": "python",
   "name": "python38232bit9195e4a07bb44b23ac77857dacdf8073"
  },
  "language_info": {
   "codemirror_mode": {
    "name": "ipython",
    "version": 3
   },
   "file_extension": ".py",
   "mimetype": "text/x-python",
   "name": "python",
   "nbconvert_exporter": "python",
   "pygments_lexer": "ipython3",
   "version": "3.8.2-final"
  }
 },
 "nbformat": 4,
 "nbformat_minor": 2
}